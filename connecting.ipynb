{
 "cells": [
  {
   "cell_type": "code",
   "execution_count": 1,
   "metadata": {},
   "outputs": [],
   "source": [
    "import orchest\n",
    "import redis\n",
    "import psycopg2"
   ]
  },
  {
   "cell_type": "code",
   "execution_count": 2,
   "metadata": {},
   "outputs": [
    {
     "data": {
      "text/plain": [
       "{'name': 'postgres',\n",
       " 'image': 'postgres',\n",
       " 'env_variables': {'POSTGRES_HOST_AUTH_METHOD': 'trust'},\n",
       " 'internal_hostname': 'internal-service-postgres-24982795-ade27e7e',\n",
       " 'external_urls': {},\n",
       " 'base_paths': {}}"
      ]
     },
     "execution_count": 2,
     "metadata": {},
     "output_type": "execute_result"
    }
   ],
   "source": [
    "orchest.get_service(\"postgres\")"
   ]
  },
  {
   "cell_type": "code",
   "execution_count": 3,
   "metadata": {},
   "outputs": [
    {
     "data": {
      "text/plain": [
       "{'name': 'redis',\n",
       " 'image': 'redis',\n",
       " 'internal_hostname': 'internal-service-redis-24982795-ade27e7e',\n",
       " 'external_urls': {},\n",
       " 'base_paths': {}}"
      ]
     },
     "execution_count": 3,
     "metadata": {},
     "output_type": "execute_result"
    }
   ],
   "source": [
    "orchest.get_service(\"redis\")"
   ]
  },
  {
   "cell_type": "code",
   "execution_count": 4,
   "metadata": {},
   "outputs": [],
   "source": [
    "redis = redis.Redis(host=orchest.get_service(\"redis\")[\"internal_hostname\"], port=\"6379\")"
   ]
  },
  {
   "cell_type": "code",
   "execution_count": 5,
   "metadata": {},
   "outputs": [
    {
     "name": "stdout",
     "output_type": "stream",
     "text": [
      "b'Hello from Python!'\n"
     ]
    }
   ],
   "source": [
    "redis.set(\"mykey\", \"Hello from Python!\")\n",
    "value = redis.get(\"mykey\")\n",
    "print(value)"
   ]
  },
  {
   "cell_type": "code",
   "execution_count": 6,
   "metadata": {},
   "outputs": [
    {
     "name": "stdout",
     "output_type": "stream",
     "text": [
      "[b'bike', b'car']\n"
     ]
    }
   ],
   "source": [
    "redis.zadd(\"vehicles\", {\"car\": 0})\n",
    "redis.zadd(\"vehicles\", {\"bike\": 0})\n",
    "vehicles = redis.zrange(\"vehicles\", 0, -1)\n",
    "print(vehicles)"
   ]
  },
  {
   "cell_type": "code",
   "execution_count": 7,
   "metadata": {},
   "outputs": [],
   "source": [
    "conn = psycopg2.connect(\n",
    "    host=orchest.get_service(\"postgres\")[\"internal_hostname\"],\n",
    "    database=\"postgres\",\n",
    "    user=\"postgres\",\n",
    ")"
   ]
  },
  {
   "cell_type": "code",
   "execution_count": 8,
   "metadata": {},
   "outputs": [
    {
     "name": "stdout",
     "output_type": "stream",
     "text": [
      "PostgreSQL database version:\n",
      "('PostgreSQL 13.3 (Debian 13.3-1.pgdg100+1) on x86_64-pc-linux-gnu, compiled by gcc (Debian 8.3.0-6) 8.3.0, 64-bit',)\n"
     ]
    }
   ],
   "source": [
    "# create a cursor\n",
    "cur = conn.cursor()\n",
    "\n",
    "# execute a statement\n",
    "print(\"PostgreSQL database version:\")\n",
    "cur.execute(\"SELECT version()\")\n",
    "\n",
    "# display the PostgreSQL database server version\n",
    "db_version = cur.fetchone()\n",
    "print(db_version)\n",
    "\n",
    "# close the communication with the PostgreSQL\n",
    "cur.close()"
   ]
  }
 ],
 "metadata": {
  "kernelspec": {
   "display_name": "Python 3",
   "language": "python",
   "name": "orchest-kernel-b0e6ca1a-7883-4784-8bbf-0299cf2f8234"
  },
  "language_info": {
   "codemirror_mode": {
    "name": "ipython",
    "version": 3
   },
   "file_extension": ".py",
   "mimetype": "text/x-python",
   "name": "python",
   "nbconvert_exporter": "python",
   "pygments_lexer": "ipython3",
   "version": "3.7.6"
  }
 },
 "nbformat": 4,
 "nbformat_minor": 4
}
